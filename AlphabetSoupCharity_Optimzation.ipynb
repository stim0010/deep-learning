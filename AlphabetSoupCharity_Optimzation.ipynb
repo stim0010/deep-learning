{
 "cells": [
  {
   "cell_type": "markdown",
   "metadata": {},
   "source": [
    "## Preprocessing"
   ]
  },
  {
   "cell_type": "code",
   "execution_count": 11,
   "metadata": {},
   "outputs": [],
   "source": [
    "# Import our dependencies\n",
    "import os\n",
    "import pandas as pd\n",
    "import tensorflow as tf\n",
    "import keras_tuner as kt\n",
    "from keras.models import Sequential\n",
    "from keras.layers import Dense, Activation\n",
    "from keras.callbacks import ModelCheckpoint\n",
    "from sklearn.model_selection import train_test_split\n",
    "from sklearn.preprocessing import StandardScaler"
   ]
  },
  {
   "cell_type": "code",
   "execution_count": 12,
   "metadata": {},
   "outputs": [
    {
     "data": {
      "text/html": [
       "<div>\n",
       "<style scoped>\n",
       "    .dataframe tbody tr th:only-of-type {\n",
       "        vertical-align: middle;\n",
       "    }\n",
       "\n",
       "    .dataframe tbody tr th {\n",
       "        vertical-align: top;\n",
       "    }\n",
       "\n",
       "    .dataframe thead th {\n",
       "        text-align: right;\n",
       "    }\n",
       "</style>\n",
       "<table border=\"1\" class=\"dataframe\">\n",
       "  <thead>\n",
       "    <tr style=\"text-align: right;\">\n",
       "      <th></th>\n",
       "      <th>EIN</th>\n",
       "      <th>NAME</th>\n",
       "      <th>APPLICATION_TYPE</th>\n",
       "      <th>AFFILIATION</th>\n",
       "      <th>CLASSIFICATION</th>\n",
       "      <th>USE_CASE</th>\n",
       "      <th>ORGANIZATION</th>\n",
       "      <th>STATUS</th>\n",
       "      <th>INCOME_AMT</th>\n",
       "      <th>SPECIAL_CONSIDERATIONS</th>\n",
       "      <th>ASK_AMT</th>\n",
       "      <th>IS_SUCCESSFUL</th>\n",
       "    </tr>\n",
       "  </thead>\n",
       "  <tbody>\n",
       "    <tr>\n",
       "      <th>0</th>\n",
       "      <td>10520599</td>\n",
       "      <td>BLUE KNIGHTS MOTORCYCLE CLUB</td>\n",
       "      <td>T10</td>\n",
       "      <td>Independent</td>\n",
       "      <td>C1000</td>\n",
       "      <td>ProductDev</td>\n",
       "      <td>Association</td>\n",
       "      <td>1</td>\n",
       "      <td>0</td>\n",
       "      <td>N</td>\n",
       "      <td>5000</td>\n",
       "      <td>1</td>\n",
       "    </tr>\n",
       "    <tr>\n",
       "      <th>1</th>\n",
       "      <td>10531628</td>\n",
       "      <td>AMERICAN CHESAPEAKE CLUB CHARITABLE TR</td>\n",
       "      <td>T3</td>\n",
       "      <td>Independent</td>\n",
       "      <td>C2000</td>\n",
       "      <td>Preservation</td>\n",
       "      <td>Co-operative</td>\n",
       "      <td>1</td>\n",
       "      <td>1-9999</td>\n",
       "      <td>N</td>\n",
       "      <td>108590</td>\n",
       "      <td>1</td>\n",
       "    </tr>\n",
       "    <tr>\n",
       "      <th>2</th>\n",
       "      <td>10547893</td>\n",
       "      <td>ST CLOUD PROFESSIONAL FIREFIGHTERS</td>\n",
       "      <td>T5</td>\n",
       "      <td>CompanySponsored</td>\n",
       "      <td>C3000</td>\n",
       "      <td>ProductDev</td>\n",
       "      <td>Association</td>\n",
       "      <td>1</td>\n",
       "      <td>0</td>\n",
       "      <td>N</td>\n",
       "      <td>5000</td>\n",
       "      <td>0</td>\n",
       "    </tr>\n",
       "    <tr>\n",
       "      <th>3</th>\n",
       "      <td>10553066</td>\n",
       "      <td>SOUTHSIDE ATHLETIC ASSOCIATION</td>\n",
       "      <td>T3</td>\n",
       "      <td>CompanySponsored</td>\n",
       "      <td>C2000</td>\n",
       "      <td>Preservation</td>\n",
       "      <td>Trust</td>\n",
       "      <td>1</td>\n",
       "      <td>10000-24999</td>\n",
       "      <td>N</td>\n",
       "      <td>6692</td>\n",
       "      <td>1</td>\n",
       "    </tr>\n",
       "    <tr>\n",
       "      <th>4</th>\n",
       "      <td>10556103</td>\n",
       "      <td>GENETIC RESEARCH INSTITUTE OF THE DESERT</td>\n",
       "      <td>T3</td>\n",
       "      <td>Independent</td>\n",
       "      <td>C1000</td>\n",
       "      <td>Heathcare</td>\n",
       "      <td>Trust</td>\n",
       "      <td>1</td>\n",
       "      <td>100000-499999</td>\n",
       "      <td>N</td>\n",
       "      <td>142590</td>\n",
       "      <td>1</td>\n",
       "    </tr>\n",
       "  </tbody>\n",
       "</table>\n",
       "</div>"
      ],
      "text/plain": [
       "        EIN                                      NAME APPLICATION_TYPE  \\\n",
       "0  10520599              BLUE KNIGHTS MOTORCYCLE CLUB              T10   \n",
       "1  10531628    AMERICAN CHESAPEAKE CLUB CHARITABLE TR               T3   \n",
       "2  10547893        ST CLOUD PROFESSIONAL FIREFIGHTERS               T5   \n",
       "3  10553066            SOUTHSIDE ATHLETIC ASSOCIATION               T3   \n",
       "4  10556103  GENETIC RESEARCH INSTITUTE OF THE DESERT               T3   \n",
       "\n",
       "        AFFILIATION CLASSIFICATION      USE_CASE  ORGANIZATION  STATUS  \\\n",
       "0       Independent          C1000    ProductDev   Association       1   \n",
       "1       Independent          C2000  Preservation  Co-operative       1   \n",
       "2  CompanySponsored          C3000    ProductDev   Association       1   \n",
       "3  CompanySponsored          C2000  Preservation         Trust       1   \n",
       "4       Independent          C1000     Heathcare         Trust       1   \n",
       "\n",
       "      INCOME_AMT SPECIAL_CONSIDERATIONS  ASK_AMT  IS_SUCCESSFUL  \n",
       "0              0                      N     5000              1  \n",
       "1         1-9999                      N   108590              1  \n",
       "2              0                      N     5000              0  \n",
       "3    10000-24999                      N     6692              1  \n",
       "4  100000-499999                      N   142590              1  "
      ]
     },
     "execution_count": 12,
     "metadata": {},
     "output_type": "execute_result"
    }
   ],
   "source": [
    "#  Import and read the charity_data.csv.\n",
    "import pandas as pd \n",
    "application_df = pd.read_csv(\"Resources/charity_data.csv\")\n",
    "application_df.head()"
   ]
  },
  {
   "cell_type": "code",
   "execution_count": 13,
   "metadata": {},
   "outputs": [
    {
     "data": {
      "text/html": [
       "<div>\n",
       "<style scoped>\n",
       "    .dataframe tbody tr th:only-of-type {\n",
       "        vertical-align: middle;\n",
       "    }\n",
       "\n",
       "    .dataframe tbody tr th {\n",
       "        vertical-align: top;\n",
       "    }\n",
       "\n",
       "    .dataframe thead th {\n",
       "        text-align: right;\n",
       "    }\n",
       "</style>\n",
       "<table border=\"1\" class=\"dataframe\">\n",
       "  <thead>\n",
       "    <tr style=\"text-align: right;\">\n",
       "      <th></th>\n",
       "      <th>APPLICATION_TYPE</th>\n",
       "      <th>AFFILIATION</th>\n",
       "      <th>CLASSIFICATION</th>\n",
       "      <th>USE_CASE</th>\n",
       "      <th>ORGANIZATION</th>\n",
       "      <th>STATUS</th>\n",
       "      <th>INCOME_AMT</th>\n",
       "      <th>SPECIAL_CONSIDERATIONS</th>\n",
       "      <th>ASK_AMT</th>\n",
       "      <th>IS_SUCCESSFUL</th>\n",
       "    </tr>\n",
       "  </thead>\n",
       "  <tbody>\n",
       "    <tr>\n",
       "      <th>0</th>\n",
       "      <td>T10</td>\n",
       "      <td>Independent</td>\n",
       "      <td>C1000</td>\n",
       "      <td>ProductDev</td>\n",
       "      <td>Association</td>\n",
       "      <td>1</td>\n",
       "      <td>0</td>\n",
       "      <td>N</td>\n",
       "      <td>5000</td>\n",
       "      <td>1</td>\n",
       "    </tr>\n",
       "    <tr>\n",
       "      <th>1</th>\n",
       "      <td>T3</td>\n",
       "      <td>Independent</td>\n",
       "      <td>C2000</td>\n",
       "      <td>Preservation</td>\n",
       "      <td>Co-operative</td>\n",
       "      <td>1</td>\n",
       "      <td>1-9999</td>\n",
       "      <td>N</td>\n",
       "      <td>108590</td>\n",
       "      <td>1</td>\n",
       "    </tr>\n",
       "    <tr>\n",
       "      <th>2</th>\n",
       "      <td>T5</td>\n",
       "      <td>CompanySponsored</td>\n",
       "      <td>C3000</td>\n",
       "      <td>ProductDev</td>\n",
       "      <td>Association</td>\n",
       "      <td>1</td>\n",
       "      <td>0</td>\n",
       "      <td>N</td>\n",
       "      <td>5000</td>\n",
       "      <td>0</td>\n",
       "    </tr>\n",
       "    <tr>\n",
       "      <th>3</th>\n",
       "      <td>T3</td>\n",
       "      <td>CompanySponsored</td>\n",
       "      <td>C2000</td>\n",
       "      <td>Preservation</td>\n",
       "      <td>Trust</td>\n",
       "      <td>1</td>\n",
       "      <td>10000-24999</td>\n",
       "      <td>N</td>\n",
       "      <td>6692</td>\n",
       "      <td>1</td>\n",
       "    </tr>\n",
       "    <tr>\n",
       "      <th>4</th>\n",
       "      <td>T3</td>\n",
       "      <td>Independent</td>\n",
       "      <td>C1000</td>\n",
       "      <td>Heathcare</td>\n",
       "      <td>Trust</td>\n",
       "      <td>1</td>\n",
       "      <td>100000-499999</td>\n",
       "      <td>N</td>\n",
       "      <td>142590</td>\n",
       "      <td>1</td>\n",
       "    </tr>\n",
       "  </tbody>\n",
       "</table>\n",
       "</div>"
      ],
      "text/plain": [
       "  APPLICATION_TYPE       AFFILIATION CLASSIFICATION      USE_CASE  \\\n",
       "0              T10       Independent          C1000    ProductDev   \n",
       "1               T3       Independent          C2000  Preservation   \n",
       "2               T5  CompanySponsored          C3000    ProductDev   \n",
       "3               T3  CompanySponsored          C2000  Preservation   \n",
       "4               T3       Independent          C1000     Heathcare   \n",
       "\n",
       "   ORGANIZATION  STATUS     INCOME_AMT SPECIAL_CONSIDERATIONS  ASK_AMT  \\\n",
       "0   Association       1              0                      N     5000   \n",
       "1  Co-operative       1         1-9999                      N   108590   \n",
       "2   Association       1              0                      N     5000   \n",
       "3         Trust       1    10000-24999                      N     6692   \n",
       "4         Trust       1  100000-499999                      N   142590   \n",
       "\n",
       "   IS_SUCCESSFUL  \n",
       "0              1  \n",
       "1              1  \n",
       "2              0  \n",
       "3              1  \n",
       "4              1  "
      ]
     },
     "execution_count": 13,
     "metadata": {},
     "output_type": "execute_result"
    }
   ],
   "source": [
    "# Drop the non-beneficial ID columns, 'EIN' and 'NAME'.\n",
    "#  YOUR CODE GOES HERE\n",
    "application_df = application_df.drop(['EIN','NAME'], axis=1)\n",
    "application_df.head()"
   ]
  },
  {
   "cell_type": "code",
   "execution_count": 14,
   "metadata": {},
   "outputs": [
    {
     "data": {
      "text/plain": [
       "APPLICATION_TYPE            17\n",
       "AFFILIATION                  6\n",
       "CLASSIFICATION              71\n",
       "USE_CASE                     5\n",
       "ORGANIZATION                 4\n",
       "STATUS                       2\n",
       "INCOME_AMT                   9\n",
       "SPECIAL_CONSIDERATIONS       2\n",
       "ASK_AMT                   8747\n",
       "IS_SUCCESSFUL                2\n",
       "dtype: int64"
      ]
     },
     "execution_count": 14,
     "metadata": {},
     "output_type": "execute_result"
    }
   ],
   "source": [
    "# Determine the number of unique values in each column.\n",
    "#  YOUR CODE GOES HERE\n",
    "application_df.nunique(axis=0)"
   ]
  },
  {
   "cell_type": "code",
   "execution_count": 15,
   "metadata": {},
   "outputs": [
    {
     "data": {
      "text/plain": [
       "T3     27037\n",
       "T4      1542\n",
       "T6      1216\n",
       "T5      1173\n",
       "T19     1065\n",
       "T8       737\n",
       "T7       725\n",
       "T10      528\n",
       "T9       156\n",
       "T13       66\n",
       "T12       27\n",
       "T2        16\n",
       "T14        3\n",
       "T25        3\n",
       "T29        2\n",
       "T15        2\n",
       "T17        1\n",
       "Name: APPLICATION_TYPE, dtype: int64"
      ]
     },
     "execution_count": 15,
     "metadata": {},
     "output_type": "execute_result"
    }
   ],
   "source": [
    "# Look at APPLICATION_TYPE value counts for binning\n",
    "#  YOUR CODE GOES HERE\n",
    "application_df[\"APPLICATION_TYPE\"].value_counts()"
   ]
  },
  {
   "cell_type": "code",
   "execution_count": 16,
   "metadata": {},
   "outputs": [
    {
     "data": {
      "text/plain": [
       "T3       27037\n",
       "T4        1542\n",
       "T6        1216\n",
       "T5        1173\n",
       "T19       1065\n",
       "T8         737\n",
       "T7         725\n",
       "T10        528\n",
       "Other      276\n",
       "Name: APPLICATION_TYPE, dtype: int64"
      ]
     },
     "execution_count": 16,
     "metadata": {},
     "output_type": "execute_result"
    }
   ],
   "source": [
    "# Choose a cutoff value and create a list of application types to be replaced\n",
    "# use the variable name `application_types_to_replace`\n",
    "#  YOUR CODE GOES HERE\n",
    "application_types_to_replace = application_df[\"APPLICATION_TYPE\"].value_counts()[8:].index\n",
    "\n",
    "# Replace in dataframe\n",
    "for app in application_types_to_replace:\n",
    "    application_df['APPLICATION_TYPE'] = application_df['APPLICATION_TYPE'].replace(app,\"Other\")\n",
    "\n",
    "# Check to make sure binning was successful\n",
    "application_df['APPLICATION_TYPE'].value_counts()"
   ]
  },
  {
   "cell_type": "code",
   "execution_count": 17,
   "metadata": {},
   "outputs": [
    {
     "data": {
      "text/plain": [
       "C1000    17326\n",
       "C2000     6074\n",
       "C1200     4837\n",
       "C3000     1918\n",
       "C2100     1883\n",
       "         ...  \n",
       "C2500        1\n",
       "C1820        1\n",
       "C3700        1\n",
       "C1580        1\n",
       "C4120        1\n",
       "Name: CLASSIFICATION, Length: 71, dtype: int64"
      ]
     },
     "execution_count": 17,
     "metadata": {},
     "output_type": "execute_result"
    }
   ],
   "source": [
    "# Look at CLASSIFICATION value counts for binning\n",
    "#  YOUR CODE GOES HERE\n",
    "application_df[\"CLASSIFICATION\"].value_counts()"
   ]
  },
  {
   "cell_type": "code",
   "execution_count": 18,
   "metadata": {},
   "outputs": [
    {
     "data": {
      "text/plain": [
       "C1000    17326\n",
       "C2000     6074\n",
       "C1200     4837\n",
       "C3000     1918\n",
       "C2100     1883\n",
       "C7000      777\n",
       "C1700      287\n",
       "C4000      194\n",
       "C5000      116\n",
       "C1270      114\n",
       "C2700      104\n",
       "C2800       95\n",
       "C7100       75\n",
       "C1300       58\n",
       "C1280       50\n",
       "C1230       36\n",
       "C1400       34\n",
       "C7200       32\n",
       "C2300       32\n",
       "C1240       30\n",
       "C8000       20\n",
       "C7120       18\n",
       "C1500       16\n",
       "C1800       15\n",
       "C6000       15\n",
       "C1250       14\n",
       "C8200       11\n",
       "C1238       10\n",
       "C1278       10\n",
       "C1237        9\n",
       "C1235        9\n",
       "C7210        7\n",
       "C2400        6\n",
       "C4100        6\n",
       "C1720        6\n",
       "C1600        5\n",
       "C1257        5\n",
       "C0           3\n",
       "C1260        3\n",
       "C2710        3\n",
       "C1267        2\n",
       "C1246        2\n",
       "C3200        2\n",
       "C1234        2\n",
       "C1256        2\n",
       "Name: CLASSIFICATION, dtype: int64"
      ]
     },
     "execution_count": 18,
     "metadata": {},
     "output_type": "execute_result"
    }
   ],
   "source": [
    "# You may find it helpful to look at CLASSIFICATION value counts >1\n",
    "#  YOUR CODE GOES HERE\n",
    "application_df[\"CLASSIFICATION\"].value_counts()[application_df[\"CLASSIFICATION\"].value_counts()>1]\n"
   ]
  },
  {
   "cell_type": "code",
   "execution_count": 19,
   "metadata": {},
   "outputs": [
    {
     "data": {
      "text/plain": [
       "C1000    17326\n",
       "C2000     6074\n",
       "C1200     4837\n",
       "Other     2261\n",
       "C3000     1918\n",
       "C2100     1883\n",
       "Name: CLASSIFICATION, dtype: int64"
      ]
     },
     "execution_count": 19,
     "metadata": {},
     "output_type": "execute_result"
    }
   ],
   "source": [
    "# Choose a cutoff value and create a list of classifications to be replaced\n",
    "# use the variable name `classifications_to_replace`\n",
    "#  YOUR CODE GOES HERE\n",
    "cutoff_class=application_df[\"CLASSIFICATION\"].value_counts()[application_df[\"CLASSIFICATION\"].value_counts()<1000]\n",
    "classifications_to_replace=cutoff_class.index\n",
    "classifications_to_replace\n",
    "\n",
    "# Replace in dataframe\n",
    "for cls in classifications_to_replace:\n",
    "    application_df['CLASSIFICATION'] = application_df['CLASSIFICATION'].replace(cls,\"Other\")\n",
    "    \n",
    "# Check to make sure binning was successful\n",
    "application_df['CLASSIFICATION'].value_counts()"
   ]
  },
  {
   "cell_type": "code",
   "execution_count": 20,
   "metadata": {},
   "outputs": [
    {
     "data": {
      "text/plain": [
       "STATUS                          int64\n",
       "ASK_AMT                         int64\n",
       "IS_SUCCESSFUL                   int64\n",
       "APPLICATION_TYPE_Other          uint8\n",
       "APPLICATION_TYPE_T10            uint8\n",
       "APPLICATION_TYPE_T19            uint8\n",
       "APPLICATION_TYPE_T3             uint8\n",
       "APPLICATION_TYPE_T4             uint8\n",
       "APPLICATION_TYPE_T5             uint8\n",
       "APPLICATION_TYPE_T6             uint8\n",
       "APPLICATION_TYPE_T7             uint8\n",
       "APPLICATION_TYPE_T8             uint8\n",
       "AFFILIATION_CompanySponsored    uint8\n",
       "AFFILIATION_Family/Parent       uint8\n",
       "AFFILIATION_Independent         uint8\n",
       "AFFILIATION_National            uint8\n",
       "AFFILIATION_Other               uint8\n",
       "AFFILIATION_Regional            uint8\n",
       "CLASSIFICATION_C1000            uint8\n",
       "CLASSIFICATION_C1200            uint8\n",
       "CLASSIFICATION_C2000            uint8\n",
       "CLASSIFICATION_C2100            uint8\n",
       "CLASSIFICATION_C3000            uint8\n",
       "CLASSIFICATION_Other            uint8\n",
       "USE_CASE_CommunityServ          uint8\n",
       "USE_CASE_Heathcare              uint8\n",
       "USE_CASE_Other                  uint8\n",
       "USE_CASE_Preservation           uint8\n",
       "USE_CASE_ProductDev             uint8\n",
       "ORGANIZATION_Association        uint8\n",
       "ORGANIZATION_Co-operative       uint8\n",
       "ORGANIZATION_Corporation        uint8\n",
       "ORGANIZATION_Trust              uint8\n",
       "INCOME_AMT_0                    uint8\n",
       "INCOME_AMT_1-9999               uint8\n",
       "INCOME_AMT_10000-24999          uint8\n",
       "INCOME_AMT_100000-499999        uint8\n",
       "INCOME_AMT_10M-50M              uint8\n",
       "INCOME_AMT_1M-5M                uint8\n",
       "INCOME_AMT_25000-99999          uint8\n",
       "INCOME_AMT_50M+                 uint8\n",
       "INCOME_AMT_5M-10M               uint8\n",
       "SPECIAL_CONSIDERATIONS_N        uint8\n",
       "SPECIAL_CONSIDERATIONS_Y        uint8\n",
       "dtype: object"
      ]
     },
     "execution_count": 20,
     "metadata": {},
     "output_type": "execute_result"
    }
   ],
   "source": [
    "# Convert categorical data to numeric with `pd.get_dummies`\n",
    "df_numerical = pd.get_dummies(application_df)\n",
    "#  YOUR CODE GOES HERE\n",
    "df_numerical.dtypes"
   ]
  },
  {
   "cell_type": "code",
   "execution_count": 21,
   "metadata": {},
   "outputs": [],
   "source": [
    "# Split our preprocessed data into our features and target arrays\n",
    "#  YOUR CODE GOES HERE\n",
    "target = pd.DataFrame(df_numerical.IS_SUCCESSFUL).values.reshape(-1, 1)\n",
    "features = df_numerical.drop(\"IS_SUCCESSFUL\", axis=1).values\n",
    "\n",
    "\n",
    "# Split the preprocessed data into a training and testing dataset\n",
    "#  YOUR CODE GOES HERE\n",
    "X_train, X_test, y_train, y_test = train_test_split(features, target)"
   ]
  },
  {
   "cell_type": "code",
   "execution_count": 22,
   "metadata": {},
   "outputs": [],
   "source": [
    "# Create a StandardScaler instances\n",
    "scaler = StandardScaler()\n",
    "\n",
    "# Fit the StandardScaler\n",
    "X_scaler = scaler.fit(X_train)\n",
    "\n",
    "# Scale the data\n",
    "X_train_scaled = X_scaler.transform(X_train)\n",
    "X_test_scaled = X_scaler.transform(X_test)"
   ]
  },
  {
   "cell_type": "markdown",
   "metadata": {},
   "source": [
    "## Compile, Train and Evaluate the Model"
   ]
  },
  {
   "cell_type": "code",
   "execution_count": 23,
   "metadata": {},
   "outputs": [
    {
     "name": "stdout",
     "output_type": "stream",
     "text": [
      "Model: \"sequential\"\n",
      "_________________________________________________________________\n",
      "Layer (type)                 Output Shape              Param #   \n",
      "=================================================================\n",
      "dense (Dense)                (None, 80)                3520      \n",
      "_________________________________________________________________\n",
      "dense_1 (Dense)              (None, 30)                2430      \n",
      "_________________________________________________________________\n",
      "dense_2 (Dense)              (None, 1)                 31        \n",
      "=================================================================\n",
      "Total params: 5,981\n",
      "Trainable params: 5,981\n",
      "Non-trainable params: 0\n",
      "_________________________________________________________________\n"
     ]
    }
   ],
   "source": [
    "# Define the model - deep neural net, i.e., the number of input features and hidden nodes for each layer.\n",
    "#  YOUR CODE GOES HERE\n",
    "number_input_features = len(X_train_scaled[0])\n",
    "\n",
    "nn = tf.keras.models.Sequential()\n",
    "\n",
    "# First hidden layer\n",
    "#  YOUR CODE GOES HERE\n",
    "nn.add(tf.keras.layers.Dense(units=80, input_dim=number_input_features, activation=\"relu\"))\n",
    "# Second hidden layer\n",
    "#  YOUR CODE GOES HERE\n",
    "nn.add(tf.keras.layers.Dense(units=30, activation=\"relu\"))\n",
    "# Output layer\n",
    "#  YOUR CODE GOES HERE\n",
    "nn.add(tf.keras.layers.Dense(units=1, activation=\"sigmoid\"))\n",
    "\n",
    "# Check the structure of the model\n",
    "nn.summary()"
   ]
  },
  {
   "cell_type": "code",
   "execution_count": 24,
   "metadata": {},
   "outputs": [],
   "source": [
    "# Compile the model\n",
    "#  YOUR CODE GOES HERE\n",
    "nn.compile(loss=\"binary_crossentropy\", optimizer=\"adam\", metrics=[\"accuracy\"])"
   ]
  },
  {
   "cell_type": "code",
   "execution_count": 26,
   "metadata": {},
   "outputs": [
    {
     "name": "stdout",
     "output_type": "stream",
     "text": [
      "WARNING:tensorflow:`period` argument is deprecated. Please use `save_freq` to specify the frequency in number of batches seen.\n"
     ]
    }
   ],
   "source": [
    "# Add model weight checkpoints during training\n",
    "os.makedirs(\"checkpoints/\", exist_ok=True)\n",
    "checkpoint_path=\"checkpoints/weights.{epoch}.hdf5\"\n",
    "\n",
    "# Create callback that saves the model's weights every 5 epochs\n",
    "cp_callback = ModelCheckpoint(filepath=checkpoint_path,\n",
    "                              verbose=1,\n",
    "                              save_weights_only=True,\n",
    "                              save_freq=\"epoch\",\n",
    "                              period=5)"
   ]
  },
  {
   "cell_type": "code",
   "execution_count": 27,
   "metadata": {},
   "outputs": [
    {
     "name": "stdout",
     "output_type": "stream",
     "text": [
      "Epoch 1/100\n",
      "804/804 [==============================] - 1s 967us/step - loss: 0.5710 - accuracy: 0.7201\n",
      "Epoch 2/100\n",
      "804/804 [==============================] - 1s 918us/step - loss: 0.5546 - accuracy: 0.73100s - loss: 0.5512 - \n",
      "Epoch 3/100\n",
      "804/804 [==============================] - 1s 958us/step - loss: 0.5519 - accuracy: 0.73210s - loss: 0.5484 - \n",
      "Epoch 4/100\n",
      "804/804 [==============================] - 1s 973us/step - loss: 0.5492 - accuracy: 0.73290s - loss: 0.5491 - accuracy: 0.\n",
      "Epoch 5/100\n",
      "804/804 [==============================] - 1s 971us/step - loss: 0.5490 - accuracy: 0.73400s - loss: 0.5437 - accuracy: 0.73 - ETA: 0s - loss: 0.546\n",
      "\n",
      "Epoch 00005: saving model to checkpoints\\weights.5.hdf5\n",
      "Epoch 6/100\n",
      "804/804 [==============================] - 1s 954us/step - loss: 0.5474 - accuracy: 0.73370s - loss: 0.5451 - accuracy: 0.73 - ETA: 0s - loss: 0.5452 - \n",
      "Epoch 7/100\n",
      "804/804 [==============================] - 1s 957us/step - loss: 0.5468 - accuracy: 0.73460s - loss: 0.5467 - accuracy\n",
      "Epoch 8/100\n",
      "804/804 [==============================] - 1s 983us/step - loss: 0.5460 - accuracy: 0.73420s - loss: 0.5355  - ETA: 0s - loss: 0.5448 - accuracy: 0.73\n",
      "Epoch 9/100\n",
      "804/804 [==============================] - 1s 988us/step - loss: 0.5455 - accuracy: 0.73420s - l\n",
      "Epoch 10/100\n",
      "804/804 [==============================] - 1s 931us/step - loss: 0.5446 - accuracy: 0.73570s - loss: 0.5426 - accuracy: 0.\n",
      "\n",
      "Epoch 00010: saving model to checkpoints\\weights.10.hdf5\n",
      "Epoch 11/100\n",
      "804/804 [==============================] - 1s 995us/step - loss: 0.5440 - accuracy: 0.7369\n",
      "Epoch 12/100\n",
      "804/804 [==============================] - 1s 921us/step - loss: 0.5443 - accuracy: 0.7361\n",
      "Epoch 13/100\n",
      "804/804 [==============================] - ETA: 0s - loss: 0.5436 - accuracy: 0.7364 ETA: 0s - loss: 0.539 - 1s 974us/step - loss: 0.5434 - accuracy: 0.7367\n",
      "Epoch 14/100\n",
      "804/804 [==============================] - 1s 925us/step - loss: 0.5429 - accuracy: 0.73690s - loss: 0.5429  - ETA: 0s - loss: 0.5441 - accuracy: 0.73\n",
      "Epoch 15/100\n",
      "804/804 [==============================] - 1s 921us/step - loss: 0.5430 - accuracy: 0.7371\n",
      "\n",
      "Epoch 00015: saving model to checkpoints\\weights.15.hdf5\n",
      "Epoch 16/100\n",
      "804/804 [==============================] - 1s 923us/step - loss: 0.5424 - accuracy: 0.7381\n",
      "Epoch 17/100\n",
      "804/804 [==============================] - 1s 1ms/step - loss: 0.5419 - accuracy: 0.7383: 0s - loss:\n",
      "Epoch 18/100\n",
      "804/804 [==============================] - 1s 1ms/step - loss: 0.5416 - accuracy: 0.7378\n",
      "Epoch 19/100\n",
      "804/804 [==============================] - 1s 1ms/step - loss: 0.5416 - accuracy: 0.7386\n",
      "Epoch 20/100\n",
      "804/804 [==============================] - 1s 1ms/step - loss: 0.5412 - accuracy: 0.7394\n",
      "\n",
      "Epoch 00020: saving model to checkpoints\\weights.20.hdf5\n",
      "Epoch 21/100\n",
      "804/804 [==============================] - 1s 924us/step - loss: 0.5410 - accuracy: 0.7383\n",
      "Epoch 22/100\n",
      "804/804 [==============================] - 1s 1ms/step - loss: 0.5409 - accuracy: 0.7390\n",
      "Epoch 23/100\n",
      "804/804 [==============================] - 1s 954us/step - loss: 0.5400 - accuracy: 0.7386\n",
      "Epoch 24/100\n",
      "804/804 [==============================] - 1s 982us/step - loss: 0.5401 - accuracy: 0.73920s - loss: 0.5\n",
      "Epoch 25/100\n",
      "804/804 [==============================] - 1s 988us/step - loss: 0.5399 - accuracy: 0.7405\n",
      "\n",
      "Epoch 00025: saving model to checkpoints\\weights.25.hdf5\n",
      "Epoch 26/100\n",
      "804/804 [==============================] - 1s 997us/step - loss: 0.5398 - accuracy: 0.73990s - loss: 0.5\n",
      "Epoch 27/100\n",
      "804/804 [==============================] - 1s 961us/step - loss: 0.5396 - accuracy: 0.74060s - loss:\n",
      "Epoch 28/100\n",
      "804/804 [==============================] - 1s 983us/step - loss: 0.5393 - accuracy: 0.7393\n",
      "Epoch 29/100\n",
      "804/804 [==============================] - 1s 906us/step - loss: 0.5389 - accuracy: 0.7402\n",
      "Epoch 30/100\n",
      "804/804 [==============================] - 1s 951us/step - loss: 0.5390 - accuracy: 0.7396\n",
      "\n",
      "Epoch 00030: saving model to checkpoints\\weights.30.hdf5\n",
      "Epoch 31/100\n",
      "804/804 [==============================] - 1s 940us/step - loss: 0.5383 - accuracy: 0.73930s - loss: 0.5348 - accuracy:  - ETA: 0s - loss: 0.5368 - accuracy\n",
      "Epoch 32/100\n",
      "804/804 [==============================] - ETA: 0s - loss: 0.5395 - accuracy: 0.7395 ETA: 0s - loss: - 1s 930us/step - loss: 0.5386 - accuracy: 0.7400\n",
      "Epoch 33/100\n",
      "804/804 [==============================] - 1s 967us/step - loss: 0.5384 - accuracy: 0.74120s - loss: 0.5333 \n",
      "Epoch 34/100\n",
      "804/804 [==============================] - 1s 899us/step - loss: 0.5379 - accuracy: 0.7402\n",
      "Epoch 35/100\n",
      "804/804 [==============================] - 1s 948us/step - loss: 0.5378 - accuracy: 0.7403\n",
      "\n",
      "Epoch 00035: saving model to checkpoints\\weights.35.hdf5\n",
      "Epoch 36/100\n",
      "804/804 [==============================] - 1s 945us/step - loss: 0.5376 - accuracy: 0.74110s - loss: 0.5355 - accura\n",
      "Epoch 37/100\n",
      "804/804 [==============================] - 1s 936us/step - loss: 0.5375 - accuracy: 0.74090s - loss: 0.5372 - \n",
      "Epoch 38/100\n",
      "804/804 [==============================] - 1s 991us/step - loss: 0.5375 - accuracy: 0.74050s - loss: 0.5363 - accuracy: 0.\n",
      "Epoch 39/100\n",
      "804/804 [==============================] - 1s 965us/step - loss: 0.5380 - accuracy: 0.7416\n",
      "Epoch 40/100\n",
      "804/804 [==============================] - 1s 922us/step - loss: 0.5369 - accuracy: 0.7419\n",
      "\n",
      "Epoch 00040: saving model to checkpoints\\weights.40.hdf5\n",
      "Epoch 41/100\n",
      "804/804 [==============================] - 1s 932us/step - loss: 0.5369 - accuracy: 0.7408\n",
      "Epoch 42/100\n",
      "804/804 [==============================] - 1s 974us/step - loss: 0.5370 - accuracy: 0.7412\n",
      "Epoch 43/100\n",
      "804/804 [==============================] - 1s 945us/step - loss: 0.5368 - accuracy: 0.7406\n",
      "Epoch 44/100\n",
      "804/804 [==============================] - 1s 964us/step - loss: 0.5368 - accuracy: 0.74100s - loss: 0.5359 - accuracy\n",
      "Epoch 45/100\n",
      "804/804 [==============================] - 1s 956us/step - loss: 0.5365 - accuracy: 0.7420\n",
      "\n",
      "Epoch 00045: saving model to checkpoints\\weights.45.hdf5\n",
      "Epoch 46/100\n",
      "804/804 [==============================] - 1s 947us/step - loss: 0.5368 - accuracy: 0.7414\n",
      "Epoch 47/100\n",
      "804/804 [==============================] - 1s 910us/step - loss: 0.5360 - accuracy: 0.74200s - loss: 0.5333 - accuracy - ETA: 0s - loss: 0.5316 - \n",
      "Epoch 48/100\n",
      "804/804 [==============================] - 1s 1ms/step - loss: 0.5362 - accuracy: 0.7409\n",
      "Epoch 49/100\n",
      "804/804 [==============================] - 1s 936us/step - loss: 0.5363 - accuracy: 0.7413\n",
      "Epoch 50/100\n",
      "804/804 [==============================] - 1s 979us/step - loss: 0.5358 - accuracy: 0.7409\n",
      "\n",
      "Epoch 00050: saving model to checkpoints\\weights.50.hdf5\n",
      "Epoch 51/100\n",
      "804/804 [==============================] - 1s 913us/step - loss: 0.5365 - accuracy: 0.74160s - loss: 0.5361 - accuracy: 0.74 - ETA: 0s - loss: 0.5347 - accuracy - ETA: 0s - loss: 0.5355 - accuracy: \n",
      "Epoch 52/100\n",
      "804/804 [==============================] - 1s 988us/step - loss: 0.5359 - accuracy: 0.7423\n",
      "Epoch 53/100\n",
      "804/804 [==============================] - 1s 940us/step - loss: 0.5359 - accuracy: 0.74100s - loss: 0.5328 - ac\n",
      "Epoch 54/100\n",
      "804/804 [==============================] - 1s 970us/step - loss: 0.5357 - accuracy: 0.74180s - loss: 0.5406 - accu - ETA: 0s - loss: 0.5341 - accuracy\n",
      "Epoch 55/100\n",
      "804/804 [==============================] - 1s 958us/step - loss: 0.5357 - accuracy: 0.74150s - loss: 0.5354 - accuracy: 0.74\n",
      "\n",
      "Epoch 00055: saving model to checkpoints\\weights.55.hdf5\n",
      "Epoch 56/100\n",
      "804/804 [==============================] - 1s 958us/step - loss: 0.5353 - accuracy: 0.7428\n",
      "Epoch 57/100\n",
      "804/804 [==============================] - 1s 918us/step - loss: 0.5359 - accuracy: 0.7413\n",
      "Epoch 58/100\n",
      "804/804 [==============================] - 1s 973us/step - loss: 0.5350 - accuracy: 0.7417\n",
      "Epoch 59/100\n",
      "804/804 [==============================] - 1s 978us/step - loss: 0.5352 - accuracy: 0.74180s - loss: 0.5307 - accuracy:  - ETA: 0s - loss: 0.5332 - accuracy: \n",
      "Epoch 60/100\n",
      "804/804 [==============================] - 1s 971us/step - loss: 0.5351 - accuracy: 0.7417\n",
      "\n",
      "Epoch 00060: saving model to checkpoints\\weights.60.hdf5\n",
      "Epoch 61/100\n"
     ]
    },
    {
     "name": "stdout",
     "output_type": "stream",
     "text": [
      "804/804 [==============================] - 1s 961us/step - loss: 0.5351 - accuracy: 0.74250s - loss: 0.5339 - accuracy: 0.74 - ETA: 0s - loss: 0.5334 - accuracy: 0.74 - ETA: 0s - loss: 0.5349 - accuracy: 0.74\n",
      "Epoch 62/100\n",
      "804/804 [==============================] - 1s 961us/step - loss: 0.5350 - accuracy: 0.7425\n",
      "Epoch 63/100\n",
      "804/804 [==============================] - 1s 941us/step - loss: 0.5350 - accuracy: 0.74220s - loss: 0.5361 - ac\n",
      "Epoch 64/100\n",
      "804/804 [==============================] - 1s 970us/step - loss: 0.5352 - accuracy: 0.7421\n",
      "Epoch 65/100\n",
      "804/804 [==============================] - 1s 939us/step - loss: 0.5351 - accuracy: 0.74230s - loss: 0.5318 - accu - ETA: 0s - loss: 0.5356 - accuracy: 0.\n",
      "\n",
      "Epoch 00065: saving model to checkpoints\\weights.65.hdf5\n",
      "Epoch 66/100\n",
      "804/804 [==============================] - 1s 980us/step - loss: 0.5348 - accuracy: 0.74260s - loss: 0.533\n",
      "Epoch 67/100\n",
      "804/804 [==============================] - 1s 955us/step - loss: 0.5350 - accuracy: 0.74180s - loss: 0.5356 - accura\n",
      "Epoch 68/100\n",
      "804/804 [==============================] - 1s 963us/step - loss: 0.5346 - accuracy: 0.74170s - loss: 0.5514  - ETA: 0s - loss: 0.5366 - accura\n",
      "Epoch 69/100\n",
      "804/804 [==============================] - 1s 974us/step - loss: 0.5347 - accuracy: 0.7423\n",
      "Epoch 70/100\n",
      "804/804 [==============================] - 1s 949us/step - loss: 0.5344 - accuracy: 0.7410\n",
      "\n",
      "Epoch 00070: saving model to checkpoints\\weights.70.hdf5\n",
      "Epoch 71/100\n",
      "804/804 [==============================] - 1s 933us/step - loss: 0.5346 - accuracy: 0.74250s - loss: 0.5345 - accuracy: 0.\n",
      "Epoch 72/100\n",
      "804/804 [==============================] - 1s 969us/step - loss: 0.5345 - accuracy: 0.7419\n",
      "Epoch 73/100\n",
      "804/804 [==============================] - 1s 970us/step - loss: 0.5345 - accuracy: 0.7427\n",
      "Epoch 74/100\n",
      "804/804 [==============================] - 1s 998us/step - loss: 0.5341 - accuracy: 0.74210s - loss: 0.5336 - ac\n",
      "Epoch 75/100\n",
      "804/804 [==============================] - 1s 944us/step - loss: 0.5339 - accuracy: 0.74240s - loss: 0.5341 - accura\n",
      "\n",
      "Epoch 00075: saving model to checkpoints\\weights.75.hdf5\n",
      "Epoch 76/100\n",
      "804/804 [==============================] - 1s 1ms/step - loss: 0.5341 - accuracy: 0.7427\n",
      "Epoch 77/100\n",
      "804/804 [==============================] - 1s 965us/step - loss: 0.5340 - accuracy: 0.7423\n",
      "Epoch 78/100\n",
      "804/804 [==============================] - 1s 998us/step - loss: 0.5340 - accuracy: 0.74270s - loss: 0.5366 - \n",
      "Epoch 79/100\n",
      "804/804 [==============================] - 1s 974us/step - loss: 0.5335 - accuracy: 0.7434\n",
      "Epoch 80/100\n",
      "804/804 [==============================] - 1s 969us/step - loss: 0.5338 - accuracy: 0.7428\n",
      "\n",
      "Epoch 00080: saving model to checkpoints\\weights.80.hdf5\n",
      "Epoch 81/100\n",
      "804/804 [==============================] - 1s 995us/step - loss: 0.5342 - accuracy: 0.74270s - loss: 0.5344 - accuracy:  - ETA: 0s - loss: 0.5336 - accuracy: \n",
      "Epoch 82/100\n",
      "804/804 [==============================] - 1s 976us/step - loss: 0.5345 - accuracy: 0.74310s - loss: 0.5317 - accuracy - ETA: 0s - loss: 0.5320 \n",
      "Epoch 83/100\n",
      "804/804 [==============================] - 1s 942us/step - loss: 0.5342 - accuracy: 0.7426\n",
      "Epoch 84/100\n",
      "804/804 [==============================] - 1s 992us/step - loss: 0.5334 - accuracy: 0.74240s - loss: 0.5328 - accuracy: 0.\n",
      "Epoch 85/100\n",
      "804/804 [==============================] - 1s 987us/step - loss: 0.5336 - accuracy: 0.7430\n",
      "\n",
      "Epoch 00085: saving model to checkpoints\\weights.85.hdf5\n",
      "Epoch 86/100\n",
      "804/804 [==============================] - 1s 973us/step - loss: 0.5339 - accuracy: 0.74260s - loss: 0.5324 - accuracy: 0.74 - ETA: 0s - loss: 0.5326 \n",
      "Epoch 87/100\n",
      "804/804 [==============================] - 1s 990us/step - loss: 0.5333 - accuracy: 0.74230s - loss: 0.5318 \n",
      "Epoch 88/100\n",
      "804/804 [==============================] - 1s 984us/step - loss: 0.5337 - accuracy: 0.74270s - loss: - ETA: 0s - loss: 0.5319 - accuracy: 0.\n",
      "Epoch 89/100\n",
      "804/804 [==============================] - 1s 1ms/step - loss: 0.5334 - accuracy: 0.7426: 0s -\n",
      "Epoch 90/100\n",
      "804/804 [==============================] - 1s 939us/step - loss: 0.5340 - accuracy: 0.7423\n",
      "\n",
      "Epoch 00090: saving model to checkpoints\\weights.90.hdf5\n",
      "Epoch 91/100\n",
      "804/804 [==============================] - 1s 976us/step - loss: 0.5335 - accuracy: 0.7429\n",
      "Epoch 92/100\n",
      "804/804 [==============================] - 1s 937us/step - loss: 0.5338 - accuracy: 0.7425\n",
      "Epoch 93/100\n",
      "804/804 [==============================] - 1s 968us/step - loss: 0.5332 - accuracy: 0.7430\n",
      "Epoch 94/100\n",
      "804/804 [==============================] - 1s 978us/step - loss: 0.5330 - accuracy: 0.74320s - loss: 0.5342 - accuracy: \n",
      "Epoch 95/100\n",
      "804/804 [==============================] - 1s 921us/step - loss: 0.5331 - accuracy: 0.7430\n",
      "\n",
      "Epoch 00095: saving model to checkpoints\\weights.95.hdf5\n",
      "Epoch 96/100\n",
      "804/804 [==============================] - 1s 961us/step - loss: 0.5328 - accuracy: 0.74320s - loss: 0.5275 -  - ETA: 0s - loss: 0.5318 - accuracy\n",
      "Epoch 97/100\n",
      "804/804 [==============================] - 1s 971us/step - loss: 0.5329 - accuracy: 0.7430\n",
      "Epoch 98/100\n",
      "804/804 [==============================] - 1s 936us/step - loss: 0.5328 - accuracy: 0.74340s - loss: 0.5328 - accuracy: 0.74\n",
      "Epoch 99/100\n",
      "804/804 [==============================] - 1s 965us/step - loss: 0.5327 - accuracy: 0.74330s - loss: 0.5323 - \n",
      "Epoch 100/100\n",
      "804/804 [==============================] - 1s 983us/step - loss: 0.5330 - accuracy: 0.74200s - loss: 0.5327 - \n",
      "\n",
      "Epoch 00100: saving model to checkpoints\\weights.100.hdf5\n"
     ]
    }
   ],
   "source": [
    "# Train the model\n",
    "#  YOUR CODE GOES HERE\n",
    "fit_model = nn.fit(X_train_scaled, y_train, epochs=100,callbacks=[cp_callback])"
   ]
  },
  {
   "cell_type": "code",
   "execution_count": 28,
   "metadata": {
    "scrolled": true
   },
   "outputs": [
    {
     "name": "stdout",
     "output_type": "stream",
     "text": [
      "268/268 - 0s - loss: 0.5659 - accuracy: 0.7191\n",
      "Loss: 0.5659319758415222, Accuracy: 0.7190670371055603\n"
     ]
    }
   ],
   "source": [
    "# Evaluate the model using the test data\n",
    "model_loss, model_accuracy = nn.evaluate(X_test_scaled,y_test,verbose=2)\n",
    "print(f\"Loss: {model_loss}, Accuracy: {model_accuracy}\")"
   ]
  },
  {
   "cell_type": "code",
   "execution_count": 29,
   "metadata": {},
   "outputs": [],
   "source": [
    "# Export our model to HDF5 file\n",
    "#  YOUR CODE GOES HERE\n",
    "nn.save(\"AlphabetSoupCharity.h5\")"
   ]
  },
  {
   "cell_type": "code",
   "execution_count": 30,
   "metadata": {},
   "outputs": [
    {
     "data": {
      "text/plain": [
       "<matplotlib.axes._subplots.AxesSubplot at 0x1c8c515c860>"
      ]
     },
     "execution_count": 30,
     "metadata": {},
     "output_type": "execute_result"
    },
    {
     "data": {
      "image/png": "[encoded data removed]",
      "text/plain": [
       "<Figure size 432x288 with 1 Axes>"
      ]
     },
     "metadata": {
      "needs_background": "light"
     },
     "output_type": "display_data"
    }
   ],
   "source": [
    "pd.DataFrame(fit_model.history, index=range(1,len(fit_model.history[\"loss\"])+1)).plot(y=\"loss\")"
   ]
  },
  {
   "cell_type": "code",
   "execution_count": 31,
   "metadata": {},
   "outputs": [],
   "source": [
    "# Create a method that creates a new Sequential model with hyperparameter options\n",
    "def create_model(hp):\n",
    "    nn_model = Sequential()\n",
    "\n",
    "    # Allow kerastuner to decide which activation function to use in hidden layers\n",
    "    activation = hp.Choice('activation',['relu','tanh','sigmoid'])\n",
    "    \n",
    "    # Allow kerastuner to decide number of neurons in first layer\n",
    "    nn_model.add(Dense(units=hp.Int('first_units',\n",
    "        min_value=1,\n",
    "        max_value=80,\n",
    "        step=2), activation=activation, input_dim=number_input_features))\n",
    "      \n",
    "    # Choose an optimal value from 0.01, 0.001, or 0.0001\n",
    "   # hp_learning_rate = hp.Choice('learning_rate', values=[1e-2, 1e-3, 1e-4])\n",
    "\n",
    "    # Allow kerastuner to decide number of hidden layers and neurons in hidden layers\n",
    "    for i in range(hp.Int('num_layers', 1, 6)):\n",
    "        nn_model.add(Dense(units=hp.Int('units_' + str(i),\n",
    "            min_value=1,\n",
    "            max_value=80,\n",
    "            step=2),\n",
    "            activation=activation))\n",
    "    \n",
    "    nn_model.add(Dense(units=1, activation=\"sigmoid\"))\n",
    "\n",
    "    # Compile the model\n",
    "    nn_model.compile(loss=\"binary_crossentropy\", optimizer='adam', metrics=[\"accuracy\"])\n",
    "    \n",
    "    return nn_model"
   ]
  },
  {
   "cell_type": "code",
   "execution_count": 32,
   "metadata": {},
   "outputs": [],
   "source": [
    "!pip install -q -U keras-tuner"
   ]
  },
  {
   "cell_type": "code",
   "execution_count": 33,
   "metadata": {},
   "outputs": [],
   "source": [
    "# Import the kerastuner library\n",
    "\n",
    "tuner = kt.Hyperband(\n",
    "    create_model,\n",
    "    objective=\"val_accuracy\",\n",
    "    max_epochs=20,\n",
    "    hyperband_iterations=2)"
   ]
  },
  {
   "cell_type": "code",
   "execution_count": 34,
   "metadata": {},
   "outputs": [
    {
     "name": "stdout",
     "output_type": "stream",
     "text": [
      "Trial 60 Complete [00h 00m 23s]\n",
      "val_accuracy: 0.7282798886299133\n",
      "\n",
      "Best val_accuracy So Far: 0.7292128205299377\n",
      "Total elapsed time: 00h 08m 38s\n",
      "INFO:tensorflow:Oracle triggered exit\n"
     ]
    }
   ],
   "source": [
    "# Run the kerastuner search for best hyperparameters\n",
    "tuner.search(X_train_scaled,y_train,epochs=20,validation_data=(X_test_scaled,y_test))"
   ]
  },
  {
   "cell_type": "code",
   "execution_count": 35,
   "metadata": {},
   "outputs": [
    {
     "data": {
      "text/plain": [
       "{'activation': 'tanh',\n",
       " 'first_units': 57,\n",
       " 'num_layers': 4,\n",
       " 'units_0': 29,\n",
       " 'units_1': 29,\n",
       " 'units_2': 53,\n",
       " 'units_3': 25,\n",
       " 'units_4': 33,\n",
       " 'units_5': 57,\n",
       " 'tuner/epochs': 20,\n",
       " 'tuner/initial_epoch': 0,\n",
       " 'tuner/bracket': 0,\n",
       " 'tuner/round': 0}"
      ]
     },
     "execution_count": 35,
     "metadata": {},
     "output_type": "execute_result"
    }
   ],
   "source": [
    "# Get best model hyperparameters\n",
    "best_hyper = tuner.get_best_hyperparameters(1)[0]\n",
    "best_hyper.values"
   ]
  },
  {
   "cell_type": "code",
   "execution_count": 36,
   "metadata": {},
   "outputs": [
    {
     "name": "stdout",
     "output_type": "stream",
     "text": [
      "268/268 - 0s - loss: 0.5570 - accuracy: 0.7292\n",
      "Loss: 0.55704265832901, Accuracy: 0.7292128205299377\n"
     ]
    }
   ],
   "source": [
    "# Evaluate best model against full test data\n",
    "best_model = tuner.get_best_models(1)[0]\n",
    "model_loss, model_accuracy = best_model.evaluate(X_test_scaled,y_test,verbose=2)\n",
    "print(f\"Loss: {model_loss}, Accuracy: {model_accuracy}\")"
   ]
  },
  {
   "cell_type": "code",
   "execution_count": 37,
   "metadata": {},
   "outputs": [
    {
     "name": "stdout",
     "output_type": "stream",
     "text": [
      "Model: \"sequential\"\n",
      "_________________________________________________________________\n",
      "Layer (type)                 Output Shape              Param #   \n",
      "=================================================================\n",
      "dense (Dense)                (None, 57)                2508      \n",
      "_________________________________________________________________\n",
      "dense_1 (Dense)              (None, 29)                1682      \n",
      "_________________________________________________________________\n",
      "dense_2 (Dense)              (None, 29)                870       \n",
      "_________________________________________________________________\n",
      "dense_3 (Dense)              (None, 53)                1590      \n",
      "_________________________________________________________________\n",
      "dense_4 (Dense)              (None, 25)                1350      \n",
      "_________________________________________________________________\n",
      "dense_5 (Dense)              (None, 1)                 26        \n",
      "=================================================================\n",
      "Total params: 8,026\n",
      "Trainable params: 8,026\n",
      "Non-trainable params: 0\n",
      "_________________________________________________________________\n"
     ]
    }
   ],
   "source": [
    "best_model.summary()"
   ]
  },
  {
   "cell_type": "code",
   "execution_count": 38,
   "metadata": {},
   "outputs": [],
   "source": [
    "# Export and save model to HDF5 file\n",
    "best_model.save(\"AlphabetSoupCharity_Optimization.h5\")"
   ]
  },
  {
   "cell_type": "code",
   "execution_count": null,
   "metadata": {},
   "outputs": [],
   "source": []
  }
 ],
 "metadata": {
  "kernelspec": {
   "display_name": "Python 3",
   "language": "python",
   "name": "python3"
  },
  "language_info": {
   "codemirror_mode": {
    "name": "ipython",
    "version": 3
   },
   "file_extension": ".py",
   "mimetype": "text/x-python",
   "name": "python",
   "nbconvert_exporter": "python",
   "pygments_lexer": "ipython3",
   "version": "3.6.10"
  }
 },
 "nbformat": 4,
 "nbformat_minor": 4
}
